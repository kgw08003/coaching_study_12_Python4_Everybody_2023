{
  "nbformat": 4,
  "nbformat_minor": 0,
  "metadata": {
    "colab": {
      "provenance": []
    },
    "kernelspec": {
      "name": "python3",
      "display_name": "Python 3"
    },
    "language_info": {
      "name": "python"
    }
  },
  "cells": [
    {
      "cell_type": "markdown",
      "source": [
        "📌Q1. 우리는 1,000이상의 큰 수를 쓸 때, 숫자의 크기를 쉽게 확인할 수 있도록 매 3자리마다 \",\" 를 찍어 숫자를 표기하고 있습니다. 파이썬에도 아래와 같이 쉽게 나타낼 수 있는 편리한 방법이 존재하지요. 하지만! 이번 미션에서는 아래의 기능을 사용하지 않고, 직접 숫자 표기법을 만들어 보도록 합시다. 사용자로부터 1,000이상의 숫자를 입력 받고, 매 3자리마다 \",\"를 찍어 숫자의 크기를 쉽게 구별할 수 있는 코드를 작성해주세요. [ 난이도 : ⭐️⭐️/5]"
      ],
      "metadata": {
        "id": "liWKJEEEIykQ"
      }
    },
    {
      "cell_type": "code",
      "source": [
        "# Q1-1 1000 이상의 숫자를 입력받으면 매 3자리마다 ,를 찍는 프로그램\n",
        "\n",
        "def make_comma(num):\n",
        "    num_list = list(str(num))\n",
        "    new_list = []\n",
        "    i = 1\n",
        "    if len(str(num)) <= 3:\n",
        "        print(num)\n",
        "    else:\n",
        "        while num_list:\n",
        "            new_list.append(num_list.pop())\n",
        "            if i % 3 == 0 and i < len(str(num)):\n",
        "                new_list.append(',')\n",
        "            i += 1\n",
        "        new_list.reverse()\n",
        "        for x in new_list:\n",
        "            print(x, end = '')\n",
        "        print('')\n",
        "\n",
        "# 숫자 입력받기\n",
        "number = input('정수를 입력해 주세요.: ')\n",
        "while not number.isdigit():             # 숫자가 아닐 때 다시 입력받기\n",
        "    print('잘못된 입력입니다.')\n",
        "    number = input('정수를 입력해 주세요.: ')\n",
        "\n",
        "# 함수 실행\n",
        "make_comma(number)"
      ],
      "metadata": {
        "id": "YeJGNCYZI3o-",
        "colab": {
          "base_uri": "https://localhost:8080/"
        },
        "outputId": "882b917e-35be-439e-8e42-11ed255a3e77"
      },
      "execution_count": null,
      "outputs": [
        {
          "output_type": "stream",
          "name": "stdout",
          "text": [
            "정수를 입력해 주세요.: asdw\n",
            "잘못된 입력입니다.\n",
            "정수를 입력해 주세요.: 46571581565\n",
            "46,571,581,565\n"
          ]
        }
      ]
    },
    {
      "cell_type": "code",
      "source": [
        "# Q1-2 : 음수의 경우에도 세 자리마다 ,를 찍는 개선된 프로그램입니다\n",
        "\n",
        "number=str(input(\"숫자를 입력해주세요.\"))   #숫자를 입력받습니다.\n",
        "if not number.startswith(\"-\"):\n",
        "    length=int(len(number))                 # 숫자의 개수\n",
        "    first=(length)%3                        #맨 앞에 오는 숫자 개수\n",
        "    if first==0:\n",
        "        first=3\n",
        "    block=int((length-first)/3)             #필요한 블록의 개수\n",
        "    new_number=number[0:first]\n",
        "    for i in range(0,block+1):\n",
        "        if i!=block:\n",
        "            new_number=new_number+','+number[first+3*i:first+3+3*i]\n",
        "            i=i+1\n",
        "        else:\n",
        "            i=i+1\n",
        "    print(new_number)\n",
        "else:\n",
        "    length=int(len(number))-1               # 숫자의 개수\n",
        "    first=(length)%3                        #맨 앞에 오는 숫자 개수\n",
        "    if first==0:\n",
        "        first=3\n",
        "    block=int((length-first)/3)             #필요한 블록의 개수\n",
        "    new_number=number[0:first+1]\n",
        "    for i in range(0,block+1):\n",
        "        if i!=block:\n",
        "            new_number=new_number+','+number[first+1+3*i:first+4+3*i]\n",
        "            i=i+1\n",
        "        else:\n",
        "            new_number=new_number\n",
        "            i=i+1\n",
        "    print(new_number)"
      ],
      "metadata": {
        "id": "MJquF-Ppph0s",
        "colab": {
          "base_uri": "https://localhost:8080/"
        },
        "outputId": "1203e7f9-5f45-4815-f12d-97ad6643a2da"
      },
      "execution_count": null,
      "outputs": [
        {
          "output_type": "stream",
          "name": "stdout",
          "text": [
            "숫자를 입력해주세요.-234568\n",
            "-234,568\n"
          ]
        }
      ]
    },
    {
      "cell_type": "markdown",
      "source": [
        "📌Q2. 햇빛이 따사로운 어느 날, 문득 읽고 있던 연애소설에서 '사랑'이라는 단어가 몇 개나 등장하는지 궁금해졌습니다. 손으로 하나씩 세기에는 페이지 수가 너무 많아 번거롭게 느껴지는데요, 파이썬이라면 이 문제를 한번에 해결할 수 있다는 생각이 들어 시도해보려고 합니다. 이번주에 배운 내용을 토대로 파이썬을 통해 입력한 문장에서 특정 단어의 갯수를 세어주는 코드를 작성해봅시다.  [난이도 : ⭐️⭐️/5]"
      ],
      "metadata": {
        "id": "mNJeQB7UJB3M"
      }
    },
    {
      "cell_type": "code",
      "source": [
        "# 단어의 개수를 세고, 문장을 저장하는 프로그램\n",
        "def count_word(sentence, word):\n",
        "    count = 0\n",
        "    count = sentence.count(word)        # 입력된 문장에서 단어 개수 세기\n",
        "\n",
        "    print(f\"문장에 입력된 '{word}'의 개수는 {count}개 입니다.\")\n",
        "\n",
        "    with open('sentence.txt', 'w') as file:  # 입력받은 문장을 저장할 파일 열기\n",
        "        file.write(sentence)                 # 문장 저장하기\n",
        "\n",
        "# 시용자로부터 문장과 찾고자 하는 단어 입력받기\n",
        "sentence = input(\"글을 입력하세요: \")\n",
        "word = input(\"찾고 싶은 단어를 입력하세요: \")\n",
        "\n",
        "# 함수 실행\n",
        "count_word(sentence, word)"
      ],
      "metadata": {
        "id": "lbm5rxhnJGrZ",
        "colab": {
          "base_uri": "https://localhost:8080/"
        },
        "outputId": "cb9e73b5-eb07-45aa-f15b-0146c2631f22"
      },
      "execution_count": null,
      "outputs": [
        {
          "output_type": "stream",
          "name": "stdout",
          "text": [
            "글을 입력하세요: 📌Q2. 햇빛이 따사로운 어느 날, 문득 읽고 있던 연애소설에서 '사랑'이라는 단어가 몇 개나 등장하는지 궁금해졌습니다. 손으로 하나씩 세기에는 페이지 수가 너무 많아 번거롭게 느껴지는데요, 파이썬이라면 이 문제를 한번에 해결할 수 있다는 생각이 들어 시도해보려고 합니다. 이번주에 배운 내용을 토대로 파이썬을 통해 입력한 문장에서 특정 단어의 갯수를 세어주는 코드를 작성해봅시다. [난이도 : ⭐️⭐️/5]\n",
            "찾고 싶은 단어를 입력하세요: 연애\n",
            "문장에 입력된 '연애'의 개수는 1개 입니다.\n"
          ]
        }
      ]
    },
    {
      "cell_type": "markdown",
      "source": [
        "📌Q3. 특정 행사에서 방명록을 작성하는 웹 사이트를 개발하려고 합니다. 방명록에는 참석자들의 휴대전화번호가 포함되어야 합니다. 하지만 몇 명의 참석자들이 휴대전화번호를 잘못된 형식으로 작성하여 저장되었습니다. 파이썬을 활용하여 방명록 명단을 확인하고, 올바르지 않은 휴대전화번호를 찾아내는 코드를 작성해주세요. [난이도 : ⭐️⭐️/5]"
      ],
      "metadata": {
        "id": "vZSneaAWJG4R"
      }
    },
    {
      "cell_type": "code",
      "source": [
        "# 잘못된 휴대전화번호 형식을 찾아내는 프로그램\n",
        "\n",
        "def wrong_guest_book(guest_book):\n",
        "\n",
        "    # 함수의 변수에 담긴 방명록을  txt파일로 저장함\n",
        "    file = open('guest_book.txt', 'w')\n",
        "    file.write(guest_book)\n",
        "    file.close()\n",
        "\n",
        "    guest_lst = guest_book.split()          # 방명록 참석자로 나누어 리스트로 저장\n",
        "    # guest_lst = ['김갑,123456789', '이을,010-1234-5678', '박병,010-5678-111', '최정,111-1111-1111', '정무,010-3333-3333']\n",
        "\n",
        "    for guest in guest_lst:\n",
        "        info = guest.split(',')     # ,를 기준으로 잘라 리스트 생성\n",
        "        # info = ['김갑', '123456789'] 형태\n",
        "\n",
        "        if len(info[1].split('-')) != 3 or not(info[1].split('-')[0] == '010' and len(info[1].split('-')[1]) == 4 and len(info[1].split('-')[2]) == 4):\n",
        "        # (1) 전화번호가 -로 분리되어진 3개 단위가 아닌 경우\n",
        "        # (2) 첫 번째 그룹이 010-로 시작되지 않는 경우\n",
        "        # (3) 두 번쨰, 세 번쨰 그룹이 4자리로 구성되지 않은 경우\"\"\"\n",
        "\n",
        "            # 잘못 쓰 사람 및 번호 출력\n",
        "            print('잘못 쓴 사람:', info[0])\n",
        "            print('잘못 쓴 번호:', info[1] + '\\n')\n",
        "\n",
        "\n",
        "# 빙명록 명단\n",
        "guest_book = \"\"\"김갑,123456789\n",
        "이을,010-1234-5678\n",
        "박병,010-5678-111\n",
        "최정,111-1111-1111\n",
        "정무,010-3333-3333\"\"\"\n",
        "\n",
        "# 함수 실행\n",
        "wrong_guest_book(guest_book)"
      ],
      "metadata": {
        "id": "EuFKL4d8JJX0",
        "colab": {
          "base_uri": "https://localhost:8080/"
        },
        "outputId": "cec9b5f0-270f-4a3d-9ceb-2267fb54f220"
      },
      "execution_count": null,
      "outputs": [
        {
          "output_type": "stream",
          "name": "stdout",
          "text": [
            "잘못 쓴 사람: 김갑\n",
            "잘못 쓴 번호: 123456789\n",
            "\n",
            "잘못 쓴 사람: 박병\n",
            "잘못 쓴 번호: 010-5678-111\n",
            "\n",
            "잘못 쓴 사람: 최정\n",
            "잘못 쓴 번호: 111-1111-1111\n",
            "\n"
          ]
        }
      ]
    },
    {
      "cell_type": "markdown",
      "source": [
        "📌Q4. 한 IT 기업에서는 신규 직원의 신상정보를 확인하는 시스템을 도입하려고 합니다. 이 시스템은 주민등록번호를 받아 해당 직원이 몇년 몇월에 태어났는지 그리고 남자인지 여자인지를 출력하는 기능을 제공합니다. 파이썬을 활용해 다음의 조건을 충족하는 프로그램을 만들고, 효율적인 인사 관리 시스템을 만들어보세요.  [난이도 : ⭐️⭐️⭐️⭐️/5]"
      ],
      "metadata": {
        "id": "uVCDlTODJJmW"
      }
    },
    {
      "cell_type": "code",
      "source": [
        "# Q4-1\n",
        "\n",
        "# 주민등록번호를 통해 생년월일과 성별을 판별하는 프로그램\n",
        "def check_id(id):\n",
        "    if id[7] == '1' or id[7] == '2':        # 주민등록번호 뒷자리가 1/2로 시작\n",
        "        print('생년월일:', 19, end='')      # 생년월일: 19 로 시작\n",
        "        print(id[0:2]+'년 ' + id[2:4] + '월 ' + id[4:6] + '일')   # 생년월일 출력\n",
        "    elif id[7] == '3' or id[7] == '4':      # 주민등록번호 뒷자리가 3/4로 시작\n",
        "        print('생년월일:', + 20, end='')    # 생년월일: 20으로 시작\n",
        "        print(id[0:2]+'년 ' + id[2:4] + '월 ' + id[4:6] + '일')\n",
        "    else:                                   # 주민등록번호 뒷자리가 그 외의 숫자로 시작\n",
        "        print('잘못된 번호입니다.')\n",
        "\n",
        "\n",
        "    if int(id[7]) == 1 or int(id[7]) == 3:       # 주민등록번호 뒷자리가 1 또는 3\n",
        "        print('성별: 남자')\n",
        "    elif int(id[7]) == 2 or int(id[7]) == 4:     # 2 또는 4인 경우\n",
        "        print('성별: 여자')\n",
        "\n",
        "# 사용자로부터 주민등록번호를 입력받는다\n",
        "id_number = input('주민등록번호를 입력해주세요: ')\n",
        "\n",
        "# 1~6번쨰 자리 수가 숫자, 7번쨰가 -, 8~13번째가 숫자이면서 길이가 14인지 확인\n",
        "if not(id_number[0:6].isdigit() and id_number[6] == '-' and id_number[7:13].isdigit() and len(id_number) == 14):\n",
        "    print('잘못된 번호입니다.')\n",
        "else:\n",
        "    check_id(id_number)"
      ],
      "metadata": {
        "id": "MERaq7ZTJMFk",
        "colab": {
          "base_uri": "https://localhost:8080/"
        },
        "outputId": "28196661-7c60-4ed7-d057-5da4438181ff"
      },
      "execution_count": null,
      "outputs": [
        {
          "output_type": "stream",
          "name": "stdout",
          "text": [
            "주민등록번호를 입력해주세요: 121212-1212121\n",
            "생년월일: 1912년 12월 12일\n",
            "성별: 남자\n"
          ]
        }
      ]
    },
    {
      "cell_type": "code",
      "source": [
        "#Q4-2 while문을 통해 형식이 안맞는 주민등록번호를 넣었을 떄, 올바르게 입력받기\n",
        "\n",
        "# 주민등록번호를 통해 생년월일과 성별을 판별하는 프로그램\n",
        "def check_id(id):\n",
        "    if id[7] == '1' or id[7] == '2':        # 주민등록번호 뒷자리가 1/2로 시작\n",
        "        print('생년월일:', 19, end='')      # 생년월일: 19 로 시작\n",
        "        print(id[0:2]+'년 ' + id[2:4] + '월 ' + id[4:6] + '일')   # 생년월일 출력\n",
        "\n",
        "    elif id[7] == '3' or id[7] == '4':      # 주민등록번호 뒷자리가 3/4로 시작\n",
        "        print('생년월일:', + 20, end='')    # 생년월일: 20으로 시작\n",
        "        print(id[0:2]+'년 ' + id[2:4] + '월 ' + id[4:6] + '일')\n",
        "\n",
        "    else:                                   # 주민등록번호 뒷자리가 그 외의 숫자로 시작\n",
        "        print('잘못된 번호입니다.')\n",
        "\n",
        "\n",
        "    if int(id[7]) == 1 or int(id[7]) == 3:       # 주민등록번호 뒷자리가 1 또는 3\n",
        "        print('성별: 남자')\n",
        "    elif int(id[7]) == 2 or int(id[7]) == 4:     # 2 또는 4인 경우\n",
        "        print('성별: 여자')\n",
        "\n",
        "# 사용자로부터 주민등록번호를 입력받는다\n",
        "id_number = input('주민등록번호를 입력해주세요: ')\n",
        "\n",
        "# 1~6번쨰 자리 수가 숫자, 7번쨰가 -, 8~13번째가 숫자이면서 길이가 14인지 확인\n",
        "while not(id_number[0:6].isdigit() and id_number[6] == '-' and id_number[7:13].isdigit() and len(id_number) == 14):\n",
        "    id_number = input('올바른 주민등록번호를 입력해주세요: ')\n",
        "check_id(id_number.replace(' ', ''))"
      ],
      "metadata": {
        "id": "_IaCG-XSgCXQ",
        "outputId": "a2ce18ee-c8eb-4cee-d298-4ccb9f73bddb",
        "colab": {
          "base_uri": "https://localhost:8080/"
        }
      },
      "execution_count": null,
      "outputs": [
        {
          "output_type": "stream",
          "name": "stdout",
          "text": [
            "주민등록번호를 입력해주세요: 12345-456\n",
            "올바른 주민등록번호를 입력해주세요: 212121-2121212\n",
            "생년월일: 1921년 21월 21일\n",
            "성별: 여자\n"
          ]
        }
      ]
    }
  ]
}