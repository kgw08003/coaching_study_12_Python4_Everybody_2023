{
  "cells": [
    {
      "cell_type": "markdown",
      "source": [
        "\n",
        "📌Q1. 우리나라 역사에는 다양한 왕들이 있었습니다. 특히, 고려시대와 조선시대를 보면 몇몇의 왕 이름이 같은 것을 알 수 있는데요, 이번 문제에서는 고려시대와 조선시대의 왕 이름 중에서 두 시대에 모두 사용된 이름이 몇 개인지 알아보려 합니다. 다음의 조건을 만족하는 파이썬 프로그램을 만들어 중복된 이름은 몇 개인지 알아봅시다! [난이도 : ⭐️⭐️⭐️/5]"
      ],
      "metadata": {
        "id": "HJcQMxy2dbiN"
      },
      "id": "HJcQMxy2dbiN"
    },
    {
      "cell_type": "code",
      "source": [
        "# 고려, 조선 왕\n",
        "korea_king = \"태조,혜종,정종,광종,경종,성종,목종,현종,덕종,정종,문종,순종,선종,헌종,숙종,예종,인종,의종,명종,신종,희종,강종,고종,원조,충렬왕,충선왕,충숙왕,충혜왕,충목왕,충정왕,공민왕,우왕,창왕,공양왕\"\n",
        "chosun_king = \"태조,정종,태종,세종,문종,단종,세조,예종,성종,연산군,중종,인종,명종,선조,광해군,인조,효종,현종,숙종,경종,영조,정조,순조,헌종,철종,고종,순종\""
      ],
      "metadata": {
        "id": "Zka9Fq7JmKLr"
      },
      "id": "Zka9Fq7JmKLr",
      "execution_count": null,
      "outputs": []
    },
    {
      "cell_type": "code",
      "execution_count": null,
      "id": "32b01331",
      "metadata": {
        "colab": {
          "base_uri": "https://localhost:8080/"
        },
        "id": "32b01331",
        "outputId": "f72edfc4-c225-4ea6-b40e-d923873b907a"
      },
      "outputs": [
        {
          "output_type": "stream",
          "name": "stdout",
          "text": [
            "조선과 고려에 모두 있는 왕 이름: 경종\n",
            "조선과 고려에 모두 있는 왕 이름: 숙종\n",
            "조선과 고려에 모두 있는 왕 이름: 고종\n",
            "조선과 고려에 모두 있는 왕 이름: 태조\n",
            "조선과 고려에 모두 있는 왕 이름: 정종\n",
            "조선과 고려에 모두 있는 왕 이름: 현종\n",
            "조선과 고려에 모두 있는 왕 이름: 예종\n",
            "조선과 고려에 모두 있는 왕 이름: 헌종\n",
            "조선과 고려에 모두 있는 왕 이름: 인종\n",
            "조선과 고려에 모두 있는 왕 이름: 성종\n",
            "조선과 고려에 모두 있는 왕 이름: 순종\n",
            "조선과 고려에 모두 있는 왕 이름: 명종\n",
            "조선과 고려에 모두 있는 왕 이름: 문종\n",
            "조선과 고려에 모두 있는 왕 이름은 총 13개 입니다\n"
          ]
        }
      ],
      "source": [
        "# 1-1\n",
        "\n",
        "# 두 시대에 공통적으로 사용되는 왕을 찾는 함수\n",
        "def king(k_king, c_king):\n",
        "    k_names = set(k_king.split(','))  # 중복 제거를 위해 set 사용\n",
        "    c_names = set(c_king.split(','))\n",
        "\n",
        "    find = k_names.intersection(c_names)  # 공통된 왕 이름 찾기, 리스트 형태\n",
        "\n",
        "    for name in find:           # 리스트의 이름을 하나씩 꺼냄\n",
        "        print(\"조선과 고려에 모두 있는 왕 이름: \" + name)  # 왕 이름 출력\n",
        "\n",
        "    print(\"조선과 고려에 모두 있는 왕 이름은 총 {}개 입니다\".format(len(find)))\n",
        "\n",
        "# 함수 실행\n",
        "king(korea_king, chosun_king)"
      ]
    },
    {
      "cell_type": "code",
      "source": [
        "# 1-2\n",
        "\n",
        "list_korea = korea_king.split(\",\")        # 고려 왕의 정보를 , 를 기준으로 나누어 리스트로 제작\n",
        "real_list_korea = set(list_korea)         # 중복 제거 (정종)\n",
        "list_chosun = chosun_king.split(\",\")      # 조선 왕의 정보를 , 를 기준으로 나누어 리스트로 제작\n",
        "\n",
        "\n",
        "count=0         # count 초기화\n",
        "\n",
        "for k_korea in real_list_korea:\n",
        "    if k_korea in list_chosun:\n",
        "        print(\"조선과 고려에 모두 있는 왕 이름:\", k_korea)\n",
        "        count = count+1     # 중복이 있을 때마다 count의 숫자를 1씩 올림\n",
        "\n",
        "print(\"조선과 고려에서 이름이 같은 왕은 총\",str(count)+\"명 입니다.\")"
      ],
      "metadata": {
        "colab": {
          "base_uri": "https://localhost:8080/"
        },
        "id": "zKY8Nm01mI4j",
        "outputId": "a8cedfc8-13a1-4f1a-d7b8-ff28a6a5a45e"
      },
      "id": "zKY8Nm01mI4j",
      "execution_count": null,
      "outputs": [
        {
          "output_type": "stream",
          "name": "stdout",
          "text": [
            "조선과 고려에 모두 있는 왕 이름: 숙종\n",
            "조선과 고려에 모두 있는 왕 이름: 문종\n",
            "조선과 고려에 모두 있는 왕 이름: 예종\n",
            "조선과 고려에 모두 있는 왕 이름: 현종\n",
            "조선과 고려에 모두 있는 왕 이름: 헌종\n",
            "조선과 고려에 모두 있는 왕 이름: 성종\n",
            "조선과 고려에 모두 있는 왕 이름: 순종\n",
            "조선과 고려에 모두 있는 왕 이름: 명종\n",
            "조선과 고려에 모두 있는 왕 이름: 경종\n",
            "조선과 고려에 모두 있는 왕 이름: 고종\n",
            "조선과 고려에 모두 있는 왕 이름: 정종\n",
            "조선과 고려에 모두 있는 왕 이름: 태조\n",
            "조선과 고려에 모두 있는 왕 이름: 인종\n",
            "조선과 고려에서 이름이 같은 왕은 총 13명 입니다.\n"
          ]
        }
      ]
    },
    {
      "cell_type": "markdown",
      "source": [
        "📌Q2. 여러분은 영업팀의 영업관리자로서, 6명의 팀 멤버를 지휘하고 있습니다. 얼마 전, 상반기가 종료되어 멤버들의 실적을 평가할 시기가 다가왔습니다. 실적을 기준으로 잘한 멤버에게는 보너스를 주고, 성과가 부족한 멤버에게는 면담을 진행하여 개선을 도모하려고 합니다. 이를 조금 더 편리하게 하기 위해 파이썬을 이용해 함수를 만들어 볼 예정입니다. 다음 요구사항을 만족하는 프로그램을 만들고, 보너스 대상자와 면담 대상자를 구분해보세요. [난이도 : ⭐️⭐️⭐️/5]"
      ],
      "metadata": {
        "id": "QbkmyrylddbJ"
      },
      "id": "QbkmyrylddbJ"
    },
    {
      "cell_type": "code",
      "source": [
        "# 이름, 실적 데이터\n",
        "member_names = [\"갑돌이\", \"갑순이\", \"을돌이\", \"을순이\", \"병돌이\", \"병순이\"]\n",
        "member_records = [[4,5,3,5,6,5,3,4,1,3,4,5],[2,3,4,3,1,2,0,3,2,5,7,2],\n",
        "           [1,3,0,3,3,4,5,6,7,2,2,1],[3,2,9,2,3,5,6,6,4,6,9,9],\n",
        "           [8,7,7,5,6,7,5,8,8,6,10,9],[7,8,4,9,5,10,3,3,2,2,1,3]]"
      ],
      "metadata": {
        "id": "ro7u15A5xeNT"
      },
      "id": "ro7u15A5xeNT",
      "execution_count": null,
      "outputs": []
    },
    {
      "cell_type": "code",
      "source": [
        "# 2-1 리스틑의 평균을 numpy 모듈을 이용\n",
        "\n",
        "import numpy as np          # 리스트 평균을 위해 numpy 모듈 import\n",
        "\n",
        "def sales_management(member_names, member_records):\n",
        "\n",
        "    # 각 멤버들의 기록 평균\n",
        "    avg_records = [np.mean(member_record) for member_record in member_records]\n",
        "\n",
        "    sorted_avg_records = sorted(avg_records)        # 기록을 오름차순으로 정렬\n",
        "\n",
        "\n",
        "    for i, avg in enumerate(avg_records):\n",
        "        if avg in sorted_avg_records[-2:]:          # 상위 2명\n",
        "            if avg > 5:                             # 보너스 대상자 제외 조건\n",
        "                print(\"보너스 대상자\", member_names[i])\n",
        "\n",
        "        elif avg in sorted_avg_records[:2]:         # 하위 2명\n",
        "            if avg <= 3:                            # 면담 대상자 제외 조건\n",
        "                print(\"면담 대상자\", member_names[i])\n",
        "\n",
        "# 결과 출력\n",
        "sales_management(member_names, member_records)"
      ],
      "metadata": {
        "colab": {
          "base_uri": "https://localhost:8080/"
        },
        "id": "4fsBSbi2dhNR",
        "outputId": "ebddf084-b040-41f0-d8a0-f70c8c7495fd"
      },
      "id": "4fsBSbi2dhNR",
      "execution_count": null,
      "outputs": [
        {
          "output_type": "stream",
          "name": "stdout",
          "text": [
            "면담 대상자 갑순이\n",
            "보너스 대상자 을순이\n",
            "보너스 대상자 병돌이\n"
          ]
        }
      ]
    },
    {
      "cell_type": "code",
      "source": [
        "# 2-2 리스트의 평균을 numpy 모듈을 사용하지 않고 도출\n",
        "\n",
        "avg_result = []               #평균 리스트\n",
        "avg_result_rank = []          #순위대로 정렬\n",
        "\n",
        "for i in range(0,6):\n",
        "    moment_result = 0         #초기화\n",
        "    for k in range(0,12):\n",
        "        moment_result = moment_result+member_records[i][k]\n",
        "    avg_result.append(moment_result/12)\n",
        "    avg_result_rank.append(moment_result/12)   #평균 점수 리스트에 하나씩 추가\n",
        "\n",
        "avg_result_rank.sort()        #등수대로 정렬, 오름차순\n",
        "\n",
        "#등수 찾기\n",
        "for j in range(4, 6):          #1등과 2등\n",
        "    if avg_result[avg_result.index(avg_result_rank[j])] > 5:\n",
        "        print(\"보너스 대상자 :\", member_names[avg_result.index(avg_result_rank[j])])\n",
        "\n",
        "for j in range(0, 2):          #5등과 6등\n",
        "    if avg_result[avg_result.index(avg_result_rank[j])] <= 3:\n",
        "        print(\"면담 대상자 :\", member_names[avg_result.index(avg_result_rank[j])])\n"
      ],
      "metadata": {
        "colab": {
          "base_uri": "https://localhost:8080/"
        },
        "id": "aPXeVqndxiPb",
        "outputId": "2e440c34-c356-4263-da12-a3be2e8cd047"
      },
      "id": "aPXeVqndxiPb",
      "execution_count": null,
      "outputs": [
        {
          "output_type": "stream",
          "name": "stdout",
          "text": [
            "보너스 대상자 : 을순이\n",
            "보너스 대상자 : 병돌이\n",
            "면담 대상자 : 갑순이\n"
          ]
        }
      ]
    },
    {
      "cell_type": "markdown",
      "source": [
        "\n",
        "📌Q3. 최근 철수는 예금 금리가 낮은 현재 상황을 보고, 주식 시장에 흥미를 느끼게 되었습니다. 그래서 아래와 같이 매수한 종목들의 정보를 활용해 수익률을 계산하고 싶어졌습니다. 철수는 매수한 종목의 이름, 수량, 매수 평균 금액을 알고 있으며, 각 종목의 판매가도 확인했습니다. 이제 우리는 철수를 도와서 종목별 수익률을 계산하는 프로그램을 만들어보려고 합니다. 파이썬을 이용해 종목별 수익률을 계산하고, 수익률이 높은 순서대로 출력해보세요. (소수 둘째자리까지 출력) [난이도 : ⭐️⭐️⭐️/5]"
      ],
      "metadata": {
        "id": "CW_Ysuiadh4R"
      },
      "id": "CW_Ysuiadh4R"
    },
    {
      "cell_type": "code",
      "execution_count": null,
      "id": "e2a46e1f",
      "metadata": {
        "id": "e2a46e1f",
        "outputId": "cc724a8f-2635-4aea-f9db-89ae9ac57db7",
        "colab": {
          "base_uri": "https://localhost:8080/"
        }
      },
      "outputs": [
        {
          "output_type": "stream",
          "name": "stdout",
          "text": [
            "카카오의 수익률 23.08\n",
            "LG화학의 수익률 1.83\n",
            "NAVER의 수익률 -2.38\n",
            "삼성전자의 수익률 -3.53\n"
          ]
        }
      ],
      "source": [
        "def stock_profit(stocks, sells):\n",
        "    stock_list = stocks.split(',')          # ,를 기준으로 구분 (기업 기준)\n",
        "    results = []\n",
        "\n",
        "    for stock_info, sell_price in zip(stock_list, sells):\n",
        "        # 기업/수량/가격. /를 기준으로 나눔\n",
        "        stock_name, quantity, buy_price = stock_info.split('/')\n",
        "        quantity = int(quantity)\n",
        "        buy_price = int(buy_price)\n",
        "\n",
        "        # 이윤계산식\n",
        "        profit = ((sell_price - buy_price) / buy_price) * 100\n",
        "        # 격과 리스트에 [기업 이름, 수익]작성\n",
        "        results.append((stock_name, profit))\n",
        "\n",
        "    sorted_results = sorted(results, key=lambda x: x[1], reverse=True)\n",
        "\n",
        "    # 기업 별 수익률 출력\n",
        "    for stock_name, profit in sorted_results:\n",
        "        print(f\"{stock_name}의 수익률 {profit:.2f}\")\n",
        "\n",
        "# 입력 데이터\n",
        "stocks = \"삼성전자/10/85000,카카오/15/130000,LG화학/3/820000,NAVER/5/420000\"\n",
        "sells = [82000, 160000, 835000, 410000]\n",
        "\n",
        "# 결과 출력\n",
        "stock_profit(stocks, sells)"
      ]
    },
    {
      "cell_type": "markdown",
      "source": [
        "📌 Q4. 여러분은 온라인 쇼핑몰을 운영하는 사장님입니다. 상품을 많이 구매해주신 VIP 회원 분들께 감사의 마음을 전하기 위해 이달의 할인 쿠폰을 제공하려고 하는데요, 업무 효율을 높이기 위해 파이썬 프로그래밍을 이용해 회원을 구분하고자 합니다. 아래와 같은 회원 정보가 있을 때, 할인 쿠폰을 받을 VIP 회원이 누군인지 출력하는 함수를 만들어보세요. [난이도 : ⭐️⭐️⭐️/5]"
      ],
      "metadata": {
        "id": "IKYUtIZzdpHp"
      },
      "id": "IKYUtIZzdpHp"
    },
    {
      "cell_type": "code",
      "execution_count": null,
      "id": "f5c05272",
      "metadata": {
        "colab": {
          "base_uri": "https://localhost:8080/"
        },
        "id": "f5c05272",
        "outputId": "a3361197-3ac4-4fb5-a32a-b719ba0eede8"
      },
      "outputs": [
        {
          "output_type": "stream",
          "name": "stdout",
          "text": [
            "{'abc': {'나이': '21세', '전화번호': '010-1234-5678', '성별': '남자', '지역': '서울', '구매횟수': 5}, 'cdb': {'나이': '25세', '전화번호': '000-0000-0000', '성별': '남자', '지역': '서울', '구매횟수': 4}, 'bbc': {'나이': '30세', '전화번호': '010-2222-3333', '성별': '여자', '지역': '서울', '구매횟수': 3}, 'ccb': {'나이': '29세', '전화번호': '000-0000-0000', '성별': '여자', '지역': '경기', '구매횟수': 9}, 'dab': {'나이': '26세', '전화번호': '000-0000-0000', '성별': '남자', '지역': '인천', '구매횟수': 8}, 'aab': {'나이': '23세', '전화번호': '010-3333-1111', '성별': '여자', '지역': '경기', '구매횟수': 10}}\n",
            "할인 쿠폰을 받을 회원정보 아이디:aab, 나이:23세, 전화번호:010-3333-1111, 성별:여자, 지역:경기, 구매횟수: 10\n"
          ]
        }
      ],
      "source": [
        "def good_customer(info):\n",
        "    info_list = info.split(',')         # ,를 기주늘 나눠 리스트에 저장\n",
        "    customer_info = {}                  # 고객 정보를 담는 딕셔너리\n",
        "\n",
        "    for i in range(0, len(info_list), 6):\n",
        "        # 6개 정보 (id, 나이, 전화번호, 성별, 지역, 구매횟수)를 리스트에 담음\n",
        "        id_, age, phone, gender, location, purchase_count = info_list[i:i+6]\n",
        "\n",
        "        # customer info 딕셔너리: {'abc': {'나이': , '전화번호': 'xxx-xxxx-xxxx', '성별': , '지역': , '구매횟수': }\n",
        "        customer_info[id_] = {\n",
        "            '나이': age,\n",
        "            '전화번호': phone if phone != 'x' else '000-0000-0000',\n",
        "            '성별': gender,\n",
        "            '지역': location,\n",
        "            '구매횟수': int(purchase_count)\n",
        "        }\n",
        "\n",
        "    print(customer_info)\n",
        "\n",
        "    vip_customers = {}              # vip 정보를 담는 딕셔너리\n",
        "    for id_, info in customer_info.items():\n",
        "        # vip 고객 기준: 구매횟수 및 전화번호가 형식에 따르는지\n",
        "        if info['구매횟수'] >= 8 and info['전화번호'] != '000-0000-0000':\n",
        "            vip_customers[id_] = info\n",
        "\n",
        "    if vip_customers:\n",
        "        max_purchase = max(vip_customers, key=lambda k: vip_customers[k]['구매횟수'])\n",
        "        print(f\"할인 쿠폰을 받을 회원정보 아이디:{max_purchase}, 나이:{vip_customers[max_purchase]['나이']}, 전화번호:{vip_customers[max_purchase]['전화번호']}, 성별:{vip_customers[max_purchase]['성별']}, 지역:{vip_customers[max_purchase]['지역']}, 구매횟수: {vip_customers[max_purchase]['구매횟수']}\")\n",
        "\n",
        "\n",
        "# 입력 데이터\n",
        "info = \"abc,21세,010-1234-5678,남자,서울,5,cdb,25세,x,남자,서울,4,bbc,30세,010-2222-3333,여자,서울,3,ccb,29세,x,여자,경기,9,dab,26세,x,남자,인천,8,aab,23세,010-3333-1111,여자,경기,10\"\n",
        "\n",
        "# 결과 출력\n",
        "good_customer(info)"
      ]
    }
  ],
  "metadata": {
    "kernelspec": {
      "display_name": "Python 3 (ipykernel)",
      "language": "python",
      "name": "python3"
    },
    "language_info": {
      "codemirror_mode": {
        "name": "ipython",
        "version": 3
      },
      "file_extension": ".py",
      "mimetype": "text/x-python",
      "name": "python",
      "nbconvert_exporter": "python",
      "pygments_lexer": "ipython3",
      "version": "3.9.13"
    },
    "colab": {
      "provenance": []
    }
  },
  "nbformat": 4,
  "nbformat_minor": 5
}