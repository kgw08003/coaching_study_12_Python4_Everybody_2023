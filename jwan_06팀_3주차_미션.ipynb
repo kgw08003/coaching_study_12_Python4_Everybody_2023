{
  "nbformat": 4,
  "nbformat_minor": 0,
  "metadata": {
    "colab": {
      "provenance": []
    },
    "kernelspec": {
      "name": "python3",
      "display_name": "Python 3"
    },
    "language_info": {
      "name": "python"
    }
  },
  "cells": [
    {
      "cell_type": "markdown",
      "source": [
        "Q1. 숫자를 입력받고 그 숫자의 구구단을 출력하는 함수\n",
        "조건 1: 홀수번째만 출력하기\n",
        "조건 2: 값이 50 이하인 것만 출력하기"
      ],
      "metadata": {
        "id": "HwVNr1qpi9nU"
      }
    },
    {
      "cell_type": "code",
      "execution_count": null,
      "metadata": {
        "colab": {
          "base_uri": "https://localhost:8080/"
        },
        "id": "eyvUYFr9i0QU",
        "outputId": "d7556070-6858-4c27-c8b0-56e1b9f18347"
      },
      "outputs": [
        {
          "output_type": "stream",
          "name": "stdout",
          "text": [
            "몇 단? : 7\n",
            "7단\n",
            "7 × 1 = 7\n",
            "7 × 3 = 21\n",
            "7 × 5 = 35\n",
            "7 × 7 = 49\n"
          ]
        }
      ],
      "source": [
        "def gugudan(num):\n",
        "    print(str(num) + '단')\n",
        "    i = 1\n",
        "    while num * i <= 50:\n",
        "        print(str(num) + ' × ' + str(i) + ' = ' + str(num*i))\n",
        "        i += 2\n",
        "\n",
        "# 입력 받기\n",
        "number = int(input(\"몇 단? : \"))\n",
        "gugudan(number)"
      ]
    },
    {
      "cell_type": "markdown",
      "source": [
        "Q2. 가위바위보 업그레이드 버전\n",
        "조건 1: 게임을 몇 판을 진행할 것인지 입력을 받아주기\n",
        "조건 2: 0, 1, 2, \"가위\", \"바위\", \"보\" 이외에 다른 입력을 받으면 재입력 받기\n",
        "조건 3: 게임 종료 후 나와 컴퓨터의 총 전적 출력하기"
      ],
      "metadata": {
        "id": "_0R1Z2c_jZIV"
      }
    },
    {
      "cell_type": "code",
      "source": [
        "import random\n",
        "\n",
        "\n",
        "def rsp_advanced(games):\n",
        "    w, d, f = 0, 0, 0\n",
        "\n",
        "    for i in range(games):\n",
        "        while True:\n",
        "            my = input(\"가위 바위 보 : \")\n",
        "            if my in ['0', '1', '2', '가위', '바위', '보']:\n",
        "                break\n",
        "            else:\n",
        "                print('잘못 입력하셨습니다.')\n",
        "\n",
        "        # 나의 입력\n",
        "        if my == '0' or my == '가위':\n",
        "            my = 0\n",
        "            print('나:','가위')\n",
        "        elif my == '1' or my == '바위':\n",
        "            my = 1\n",
        "            print('나:', '바위')\n",
        "        elif my == '2' or my == '보':\n",
        "            my = 2\n",
        "            print('나:', '보')\n",
        "\n",
        "        # 컴퓨터의 입력\n",
        "        computer = random.randint(0, 2)\n",
        "        if computer == 0:\n",
        "            print('컴퓨터:', '가위')\n",
        "        if computer == 1:\n",
        "            print('컴퓨터:', '바위')\n",
        "        if computer == 2:\n",
        "            print('컴퓨터:', '보')\n",
        "\n",
        "        # 승부 결과\n",
        "        if my == computer:\n",
        "            print(str(i+1)+'번째 판 ' + '무승부!\\n')\n",
        "            d += 1\n",
        "        elif (my == 0 and computer == 2) or (my == 1 and computer == 0) or (my == 2 and computer == 1):\n",
        "            print(str(i+1)+'번째 판 ' + '내가 승리!\\n')\n",
        "            w += 1\n",
        "        else:\n",
        "            print(str(i+1)+'번째 판 ' + '컴퓨터 승리!\\n')\n",
        "            f += 1\n",
        "\n",
        "    print('나의 전적: ' + str(w)+'승 ' + str(d)+'무 ' + str(f)+'패')\n",
        "    print('컴퓨터의 전적: ' + str(f)+'승 ' + str(d)+'무 ' + str(w)+'패')\n",
        "\n",
        "# 입력 받기\n",
        "while True:\n",
        "    games = input(\"몇 판을 진행하시겠습니까? \")\n",
        "    if games.isdigit():\n",
        "        games = int(games)\n",
        "        break\n",
        "    else:\n",
        "        print('정수를 입력해주세요.')\n",
        "\n",
        "rsp_advanced(games)"
      ],
      "metadata": {
        "id": "WW88xpLnjWIj",
        "colab": {
          "base_uri": "https://localhost:8080/"
        },
        "outputId": "ea3a8a82-0ea4-4054-a257-1f4d78365fe9"
      },
      "execution_count": null,
      "outputs": [
        {
          "output_type": "stream",
          "name": "stdout",
          "text": [
            "몇 판을 진행하시겠습니까? 5\n",
            "가위 바위 보 : 3\n",
            "잘못 입력하셨습니다.\n",
            "가위 바위 보 : qh\n",
            "잘못 입력하셨습니다.\n",
            "가위 바위 보 : 보\n",
            "나: 보\n",
            "컴퓨터: 바위\n",
            "1번째 판 내가 승리!\n",
            "\n",
            "가위 바위 보 : 보\n",
            "나: 보\n",
            "컴퓨터: 보\n",
            "2번째 판 무승부!\n",
            "\n",
            "가위 바위 보 : ㅗ\n",
            "잘못 입력하셨습니다.\n",
            "가위 바위 보 : 보\n",
            "나: 보\n",
            "컴퓨터: 보\n",
            "3번째 판 무승부!\n",
            "\n",
            "가위 바위 보 : 가위\n",
            "나: 가위\n",
            "컴퓨터: 보\n",
            "4번째 판 내가 승리!\n",
            "\n",
            "가위 바위 보 : 가위\n",
            "나: 가위\n",
            "컴퓨터: 가위\n",
            "5번째 판 무승부!\n",
            "\n",
            "나의 전적: 2승 3무 0패\n",
            "컴퓨터의 전적: 0승 3무 2패\n"
          ]
        }
      ]
    },
    {
      "cell_type": "markdown",
      "source": [
        "Q3. 2개의 숫자를 입력하여 그 사이의 짝수만 출력하는 함수\n",
        "중앙값도 함께 출력 (단, 중앙값이 짝수가 아닐 경우에는 중앙값은 출력하지 않는다.\")"
      ],
      "metadata": {
        "id": "0jaejU-oj5OL"
      }
    },
    {
      "cell_type": "code",
      "source": [
        "def find_even_number(n, m):\n",
        "    numbers = [i for i in range(n, m+1)]\n",
        "    mid = (n + m) / 2\n",
        "    for x in numbers:\n",
        "        if x % 2 == 0:\n",
        "            print(x, '짝수')\n",
        "            if mid.is_integer() and x == int(mid):\n",
        "                print(x, '중앙값')\n",
        "\n",
        "\n",
        "n = int(input(\"첫번째 수 입력: \"))\n",
        "m = int(input(\"두번째 수 입력: \"))\n",
        "find_even_number(n,m)"
      ],
      "metadata": {
        "colab": {
          "base_uri": "https://localhost:8080/"
        },
        "id": "jEJXax7Vj4uZ",
        "outputId": "81144e7a-0379-4870-c3ed-3b14207efc32"
      },
      "execution_count": null,
      "outputs": [
        {
          "output_type": "stream",
          "name": "stdout",
          "text": [
            "첫번째 수 입력: 8\n",
            "두번째 수 입력: 20\n",
            "8 짝수\n",
            "10 짝수\n",
            "12 짝수\n",
            "14 짝수\n",
            "14 중앙값\n",
            "16 짝수\n",
            "18 짝수\n",
            "20 짝수\n"
          ]
        }
      ]
    },
    {
      "cell_type": "markdown",
      "source": [
        "Q4. 2개의 숫자 사이에 소수가 몇 개인지 출력하는 함수"
      ],
      "metadata": {
        "id": "PIZId6e1kdPp"
      }
    },
    {
      "cell_type": "code",
      "source": [
        "def count_prime_number(n, m):\n",
        "    count_composite = 0\n",
        "    numbers = [i for i in range(n, m+1)]\n",
        "    for x in numbers:\n",
        "        for y in range(2, x):\n",
        "            if x % y == 0:\n",
        "                count_composite += 1\n",
        "                break\n",
        "    print(\"소수개수: \" + str(len(numbers) - count_composite) )\n",
        "\n",
        "\n",
        "# 입력 받기\n",
        "n = int(input(\"첫번째 수 입력: \"))\n",
        "m = int(input(\"두번째 수 입력: \"))\n",
        "count_prime_number(n, m)"
      ],
      "metadata": {
        "colab": {
          "base_uri": "https://localhost:8080/"
        },
        "id": "OGTmlYRokaV7",
        "outputId": "6941079d-4671-4493-daa2-62e07a901233"
      },
      "execution_count": null,
      "outputs": [
        {
          "output_type": "stream",
          "name": "stdout",
          "text": [
            "첫번째 수 입력: 5\n",
            "두번째 수 입력: 15\n",
            "소수개수: 4\n"
          ]
        }
      ]
    }
  ]
}