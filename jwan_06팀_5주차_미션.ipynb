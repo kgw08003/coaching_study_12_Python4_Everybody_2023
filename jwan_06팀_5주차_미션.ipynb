{
  "cells": [
    {
      "cell_type": "markdown",
      "metadata": {
        "id": "NHduRai3-UBA"
      },
      "source": [
        "📌Q1. 여러분 혹시 베스킨라빈스31 게임을 아시나요? 1부터 31까지 숫자를 플레이어들끼리 번갈아 외치다가 31을 외치는 사람이 패배하는 게임인데요. 파이썬 함수를 활용해 다음의 규칙을 만족하는 게임을 만들어보고, 컴퓨터와 대결을 해보세요. [난이도 : ⭐️⭐️⭐️/5]"
      ]
    },
    {
      "cell_type": "code",
      "execution_count": null,
      "metadata": {
        "colab": {
          "base_uri": "https://localhost:8080/"
        },
        "id": "r-QummkL977z",
        "outputId": "e7290265-1f15-497d-c9d0-b670e6802a07"
      },
      "outputs": [
        {
          "name": "stdout",
          "output_type": "stream",
          "text": [
            "배스킨 라빈스 써리 원\n",
            "------------------\n",
            "My turn - 숫자를 입력하세요: 12\n",
            "잘못 입력하셨습니다.2\n",
            "My turn - 숫자를 입력하세요: 1 2\n",
            "현재 숫자 2\n",
            "컴퓨터: 3 4 5 \n",
            "My turn - 숫자를 입력하세요: 6 7 8 9\n",
            "잘못 입력하셨습니다.\n",
            "My turn - 숫자를 입력하세요: 6 7 8\n",
            "현재 숫자 8\n",
            "컴퓨터: 9 \n",
            "My turn - 숫자를 입력하세요: 10 11 12\n",
            "현재 숫자 12\n",
            "컴퓨터: 13 14 \n",
            "My turn - 숫자를 입력하세요: 15 16 17\n",
            "현재 숫자 17\n",
            "컴퓨터: 18 \n",
            "My turn - 숫자를 입력하세요: 19 20 21\n",
            "현재 숫자 21\n",
            "컴퓨터: 22 \n",
            "My turn - 숫자를 입력하세요: 23 24 25\n",
            "현재 숫자 25\n",
            "컴퓨터: 26 27 28 \n",
            "My turn - 숫자를 입력하세요: 29\n",
            "현재 숫자 29\n",
            "컴퓨터: 30 \n",
            "패배하셨습니다..\n"
          ]
        }
      ],
      "source": [
        "import random\n",
        "\n",
        "print('배스킨 라빈스 써리 원')\n",
        "print('------------------')\n",
        "\n",
        "current_number = 0              # 시작\n",
        "\n",
        "while current_number < 31:\n",
        "    Stop = False\n",
        "    while not Stop:\n",
        "        try:\n",
        "            my_number = input(('My turn - 숫자를 입력하세요: '))\n",
        "            # 숫자를 띄어쓰기 간격으로 나눠 리스트에 집어넣음\n",
        "            my_number_list = my_number.split(' ')\n",
        "            my_number_list = [int(x) for x in my_number_list]\n",
        "\n",
        "            # 숫자를 3개 이상 입력 - 오류1\n",
        "            if 1 <= len(my_number_list) <= 3:\n",
        "                pass\n",
        "            else:\n",
        "                print('잘못 입력하셨습니다.')       # 오류1\n",
        "                continue\n",
        "\n",
        "            # 이전 숫자보다 +1 큰 수가 아닌 입력 - 오류2\n",
        "            if my_number_list[0] == current_number + 1:\n",
        "                pass\n",
        "            else:\n",
        "                print('잘못 입력하셨습니다.2')      # 오류2\n",
        "                Stop = False\n",
        "                continue\n",
        "\n",
        "            Stop2 = True\n",
        "\n",
        "            # 오름차순이 아닌 경우 - 오류3\n",
        "            for i in range(len(my_number_list) - 1):\n",
        "                if my_number_list[i] + 1 != my_number_list[i + 1]:\n",
        "                    print('잘못 입력하셨습니다.3')  # 오류3\n",
        "                    Stop2 = False\n",
        "                    Stop = False\n",
        "                    break\n",
        "\n",
        "            if not Stop2:\n",
        "                break\n",
        "\n",
        "            Stop = True\n",
        "\n",
        "        except ValueError:\n",
        "            print('숫자를 입력해주세요.')\n",
        "\n",
        "    # 승리 및 패배 조건\n",
        "    if Stop:\n",
        "        current_number = my_number_list[-1]\n",
        "        print('현재 숫자', current_number)\n",
        "        if current_number == 30:\n",
        "            win = True\n",
        "            break\n",
        "\n",
        "        # 사용자가 숫자를 27, 28. 29로 끝낸 경우, 컴퓨터가 이기도록 설계\n",
        "        print('컴퓨터: ', end='')\n",
        "        if current_number in [27, 28, 29]:\n",
        "            i = 1\n",
        "            while current_number + i <= 30:\n",
        "                print(current_number + i, '', end='')\n",
        "                i += 1\n",
        "            print('')\n",
        "            win = False\n",
        "            break\n",
        "\n",
        "        # 컴퓨터가 1-3개 사이의 숫자를 적도록 함\n",
        "        computer_turn_num = random.randint(1, 3)\n",
        "        for x in range(1, computer_turn_num + 1):\n",
        "            current_number += 1\n",
        "            print(current_number, '', end='')\n",
        "        print('')\n",
        "\n",
        "        if current_number == 30:\n",
        "            win = False\n",
        "            break\n",
        "\n",
        "# 결과 출력\n",
        "if win:\n",
        "    print('승리하셨습니다!')\n",
        "elif not win:\n",
        "    print('패배하셨습니다..')\n"
      ]
    },
    {
      "cell_type": "markdown",
      "metadata": {
        "id": "vyQwS2fw-v7O"
      },
      "source": [
        "📌Q2. 한 중학교에서는 중간고사가 끝난 후, 학생들의 시험 답지와 정답지를 비교하여 점수를 계산하는 채점 프로그램을 도입하려고 합니다. 학생들의 시험 답지와 정답지가 다음과 같이 주어졌을 때, 파이썬 함수를 활용하여 다음의 요구사항을 충족하는 채점 프로그램을 만들어보세요. [난이도 : ⭐️⭐️⭐️⭐️/5]\n",
        "\n",
        "<요구사항>\n",
        "\n",
        "1. 학생들의 답안을 채점해주세요.\n",
        "2. 모든 학생들의 점수를 계산하고 등수를 매겨주세요.\n",
        "3. 최종적으로 학생들의 점수와 등수를 출력하세요."
      ]
    },
    {
      "cell_type": "code",
      "execution_count": null,
      "metadata": {
        "id": "Sa6wP8pk_EMb"
      },
      "outputs": [],
      "source": [
        "# 학생 답\n",
        "s = [\"김갑,3242524215\",\n",
        "\"이을,3242524223\",\n",
        "\"박병,2242554131\",\n",
        "\"최정,4245242315\",\n",
        "\"정무,3242524315\"]\n",
        "\n",
        "# 정답지\n",
        "a = [3,2,4,2,5,2,4,3,1,2]"
      ]
    },
    {
      "cell_type": "code",
      "execution_count": null,
      "metadata": {
        "colab": {
          "base_uri": "https://localhost:8080/"
        },
        "id": "aEc4TEUp_LX-",
        "outputId": "24caa858-a5be-4065-c59f-e06f2f4c3a04"
      },
      "outputs": [
        {
          "name": "stdout",
          "output_type": "stream",
          "text": [
            "학생: 정무 점수: 90점 1등\n",
            "학생: 김갑 점수: 80점 2등\n",
            "학생: 이을 점수: 70점 3등\n",
            "학생: 박병 점수: 50점 4등\n",
            "학생: 최정 점수: 40점 5등\n"
          ]
        }
      ],
      "source": [
        "# 10문제이므로 각 문제당 배점을 10점으로 가정\n",
        "point_per_question = 10\n",
        "\n",
        "# 채점 함수 만들기\n",
        "def calculate_score(student_answer, correct_answer):\n",
        "    # 학생의 답안과 정답을 비교하여 점수 계산\n",
        "    score = 0\n",
        "    for i in range(len(correct_answer)):\n",
        "        if student_answer[i] == str(correct_answer[i]):\n",
        "            score += point_per_question\n",
        "\n",
        "    return score\n",
        "\n",
        "# 학생별 총점 계산하여 리스트에 저장\n",
        "total_scores = []\n",
        "for item in s:\n",
        "    name, answers = item.split(\",\")  # 이름과 답안 문자열을 구분하여 추출\n",
        "    score = calculate_score(answers, a)\n",
        "    total_scores.append((name, score))\n",
        "\n",
        "# 등수 매기기\n",
        "total_scores.sort(key=lambda x: -x[1])  # 점수 내림차순으로 정렬\n",
        "\n",
        "for i, (name, score) in enumerate(total_scores):\n",
        "    rank = i + 1\n",
        "    print(f\"학생: {name} 점수: {score}점 {rank}등\")"
      ]
    },
    {
      "cell_type": "markdown",
      "metadata": {
        "id": "FhaS0qc6CTdq"
      },
      "source": [
        "📌Q3. 여러분은 오랜 친구와 함께 휴가를 보내기로 결정했습니다. 그리고 그 휴가의 첫 날, 두 사람은 재미있는 게임을 하기로 했습니다. 이 게임은 Up&Down 으로 숫자를 맞추는 것인데요, 컴퓨터가 1개의 숫자를 랜덤하게 생성하면, 우리가 그 값을 맞추는 도전을 해보려 합니다. 파이썬 함수를 활용해 다음의 규칙을 만족하는 Up&Down 게임을 만들어보세요. [난이도 : ⭐️⭐️⭐️⭐️/5]\n",
        "\n",
        "\n",
        "\n",
        "<게임 규칙>\n",
        "\n",
        "1. 게임에서 사용되는 숫자는 숫자는 0부터 100까지의 정수로 한정합니다.\n",
        "2. 사용자가 입력한 숫자와 컴퓨터가 선택한 숫자를 비교하여,\n",
        "정답을 맞추지 못한다면 다음과 같은 힌트를 제공합니다.\n",
        "   - 만약 사용자의 숫자가 정답보다 크다면, \"Down!\" 이라는 메세지를 출력합니다.\n",
        "   - 만약 사용자의 숫자가 정답보다 작다면, \"Up!\"이라는 메세지를 출력합니다.\n",
        "3. 이전 시도에 입력한 숫자는 \"이미 예측에 사용한 숫자입니다.\"라는 메세지를 출력합니다.\n",
        "    - 만약 앞선 시도에서 작성한 숫자보다 크거나 작은 경우, 올바른 범위로 예측할 수 있게 가이드합니다.\n",
        "4. 게임이 종료되면, 정답과 함께 사용자가 정답을 맞추기까지 시도한 횟수를 출력합니다"
      ]
    },
    {
      "cell_type": "code",
      "execution_count": null,
      "metadata": {
        "colab": {
          "background_save": true,
          "base_uri": "https://localhost:8080/"
        },
        "id": "MwDGyohVCS-_",
        "outputId": "6efb9571-8b3f-437c-9055-cd33001cb94f"
      },
      "outputs": [
        {
          "name": "stdout",
          "output_type": "stream",
          "text": [
            "1차 시도\n"
          ]
        }
      ],
      "source": [
        "import random\n",
        "import math\n",
        "\n",
        "# 컴퓨터가 정한 숫자\n",
        "target= random.randint(0,100)\n",
        "i_try=1\n",
        "try_list=[]\n",
        "near_list=[]        #답과 가장 가까운 값을 찾기위한 리스트 추가\n",
        "\n",
        "\n",
        "while True:\n",
        "    print(str(i_try)+\"차 시도\")\n",
        "    number=int(input(\"컴퓨터가 정한 숫자를 예측해보세요.: \"))\n",
        "\n",
        "    near_list.sort()\n",
        "\n",
        "    # 정답을 맞춘 경우\n",
        "    if number==target:\n",
        "        print(\"정답입니다. \"+ str(i_try) +\"차 시도만에 예측에 성공했네요!! 게임을 종료합니다.\")\n",
        "        break\n",
        "\n",
        "    # 예측한 숫자가 답보다 클 경우\n",
        "    elif number>target and 100 > number:\n",
        "        if number in try_list:\n",
        "            print(\"이미 예측에 사용한 숫자입니다.\")\n",
        "            print(\"지금까지의 시도 중 정답에 가까운 최대값은 \",int(target+math.sqrt(near_list[0])),\"입니다.\")\n",
        "        print(\"Down! 다시 한번 고민해보세요.\\n\")\n",
        "        try_list.append(number)\n",
        "        near_list.append((target-number)**2)\n",
        "        i_try=i_try+1\n",
        "\n",
        "    # 예측한 숫자가 답보다 작을 경우\n",
        "    elif number<target and 0<number:\n",
        "        if number in try_list:\n",
        "            print(\"이미 예측에 사용한 숫자입니다.\")\n",
        "            print(\"지금까지의 시도 중 정답에 가까운 최소값은 \",int(target-math.sqrt(near_list[0])),\"입니다.\")\n",
        "        print(\"Up! 다시 한 번 고민해보세요.\\n\")\n",
        "        try_list.append(number)\n",
        "        near_list.append((target-number)**2)\n",
        "        i_try=i_try+1"
      ]
    },
    {
      "cell_type": "markdown",
      "metadata": {
        "id": "NDm26wkPjsfC"
      },
      "source": [
        "📌Q4. 얼마 전, 당신은 한 사람과 만나게 되었습니다. 서로의 마음을 알아가며 진실된 사랑이 시작되었고, 곧 100일이 다가오고 있습니다. 이 날을 기념하기 위해 당신은 특별한 이벤트를 준비하려고 하는데요, 하지만 100일 기념일이 정확히 언제인지 알지 못합니다. 그래서 파이썬 함수를 활용해 100일 뒤가 몇월 며칠인지 계산하는 프로그램을 작성하려고 합니다. 다음의 요구사항을 충족하는 D-Day 계산기 프로그램을 만들어보세요. [난이도 : ⭐️⭐️⭐️⭐️/5]\n",
        "\n",
        "\n",
        "\n",
        "<요구사항>\n",
        "\n",
        "1. 사용자로부터 날짜와 요일을 입력받습니다.\n",
        "2. \"오늘부터 1일\"이기 때문에, 입력한 날짜를 하루로 포함하여 계산합니다.\n",
        "3. 연도는 구분하지 않으며, 윤년을 고려하지 않고 2월은 항상 28일로 가정합니다.\n",
        "4. 계산 결과는 \"100일 뒤의 날짜는 X월 X일 X요일입니다.\" 라는 메세지와 함께 출력합니다."
      ]
    },
    {
      "cell_type": "code",
      "execution_count": null,
      "metadata": {
        "colab": {
          "base_uri": "https://localhost:8080/"
        },
        "id": "L07i51BRjyfN",
        "outputId": "7cdc8c37-662c-4300-8b1a-4e988d438b9b"
      },
      "outputs": [
        {
          "name": "stdout",
          "output_type": "stream",
          "text": [
            "오늘은 몇 월 며칠 무슨요일 인가요? 띄어쓰기로 월일요일을 구분해주세요.8 16 화요일\n",
            "우리의 기념일은 8월 1일 화요일입니다.\n",
            "이로부터 100일 뒤의 날짜는 11월 8일 수요일입니다.\n"
          ]
        }
      ],
      "source": [
        "\n",
        "\n",
        "# 기념일을 입력하고 월/일/요일을 변수에 입력함\n",
        "today=input(\"기념일이 언제인가요? 띄어쓰기로 월 일 요일을 구분해주세요.\")\n",
        "month = int(today.split()[0])\n",
        "date = int(today.split()[1])\n",
        "day = today.split()[2]\n",
        "\n",
        "day_list=[\"월요일\",'화요일','수요일',\"목요일\",\"금요일\",\"토요일\",\"일요일\"]\n",
        "\n",
        "#요일이 day_list에 있는지 확인\n",
        "for i in range(0,7):\n",
        "    if day==day_list[i]:\n",
        "        day_num=i\n",
        "        break\n",
        "\n",
        "print(\"우리의 기념일은\", str(month) + \"월\", str(date) + \"일\", day + \"입니다.\")\n",
        "\n",
        "\n",
        "#구하기 쉬운 100일의 요일부터 계산합니다. 1일째와 99일째가 같은 요일입니다. 100일째면 원래 요일 +1 입니다.\n",
        "now_day=str(day_list[int(day_num+1)])\n",
        "date_list=[31,28,31,30,31,30,31,31,30,31,30,31]#각 월별 날짜 수\n",
        "\n",
        "\n",
        "#100일 후의 월을 계산합니다.\n",
        "now_date=100-int(date_list[month-1]-date)\n",
        "month=month+1\n",
        "if month>12:\n",
        "    month=month-12\n",
        "for j in range(0,8):\n",
        "    now_date=now_date-date_list[month-1]\n",
        "    month=month+1\n",
        "    if month>12:\n",
        "        month=month-12\n",
        "        print(\"내년으로 넘어감\")\n",
        "    if now_date<32:\n",
        "        break\n",
        "\n",
        "\n",
        "#여기서 생긴 now date가 며칠인가에 대한 정보를 담고있고, month는 그대로 월 입니다.\n",
        "print(\"이로부터 100일 뒤의 날짜는\",str(month)+\"월\",str(now_date-1)+\"일\",now_day+\"입니다.\")\n",
        "\n",
        "#실제 날짜계산기에 2023년 12월 25일을 넣고 돌려보면 100일 후는 4월 2일이 나오는데 이 프로그램으로 계산한 결과는 4월 3일입니다.\n",
        "#그것은 내년인 2024년의 2월이 윤년으로 인해 29일까지 존재하기 때문입니다."
      ]
    }
  ],
  "metadata": {
    "colab": {
      "provenance": []
    },
    "kernelspec": {
      "display_name": "Python 3",
      "name": "python3"
    },
    "language_info": {
      "name": "python"
    }
  },
  "nbformat": 4,
  "nbformat_minor": 0
}