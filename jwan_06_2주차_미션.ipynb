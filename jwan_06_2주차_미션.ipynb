{
  "nbformat": 4,
  "nbformat_minor": 0,
  "metadata": {
    "colab": {
      "provenance": []
    },
    "kernelspec": {
      "name": "python3",
      "display_name": "Python 3"
    },
    "language_info": {
      "name": "python"
    }
  },
  "cells": [
    {
      "cell_type": "markdown",
      "source": [
        "https://m.boostcourse.org/study-cs122-2023/lecture/1496245?isDesc=false"
      ],
      "metadata": {
        "id": "QDW9dyOqFs1l"
      }
    },
    {
      "cell_type": "markdown",
      "source": [
        "Q1. 학생 이름과 점수를 입력하면 학점을 출력하는 학점 변환기를 만들어 봅시다.\n",
        "           아래의 학점표를 토대로 만들어 주세요. [난이도 : ⭐️⭐️/5]\n",
        "\n",
        "\n"
      ],
      "metadata": {
        "id": "LGsGDn8usTY9"
      }
    },
    {
      "cell_type": "code",
      "execution_count": null,
      "metadata": {
        "id": "K6d6dbQbsRi-",
        "colab": {
          "base_uri": "https://localhost:8080/"
        },
        "outputId": "14a3435a-f7fb-4874-a300-862e4cc8a067"
      },
      "outputs": [
        {
          "output_type": "stream",
          "name": "stdout",
          "text": [
            "학생이름: 이호창\n",
            "점수: 99점\n",
            "학점: A+\n"
          ]
        }
      ],
      "source": [
        "def grader(name, score):\n",
        "\n",
        "    while score < 0 or score > 100:\n",
        "        score = int(input(\"0~100 사이의 숫자로 점수를 다시 입력해주세요: \"))\n",
        "\n",
        "    #성적 구간에 따라 점수를 나누었습니다.\n",
        "\n",
        "    if score >= 95:\n",
        "        grade = \"A+\"\n",
        "    elif score >= 90:\n",
        "        grade = \"A\"\n",
        "    elif score >= 85:\n",
        "        grade = \"B+\"\n",
        "    elif score >= 80:\n",
        "        grade = \"B\"\n",
        "    elif score >= 75:\n",
        "        grade = \"C+\"\n",
        "    elif score >= 70:\n",
        "        grade = \"C\"\n",
        "    elif score >= 65:\n",
        "        grade = \"D+\"\n",
        "    elif score >= 60:\n",
        "        grade = \"D\"\n",
        "    else:\n",
        "        grade = \"F\"\n",
        "\n",
        "    print(\"학생이름: \"+ name)\n",
        "    print(\"점수: \"+ str(score) +\"점\")\n",
        "    print(\"학점: \"+ grade)\n",
        "\n",
        "grader('이호창', 99)"
      ]
    },
    {
      "cell_type": "markdown",
      "source": [
        "📌Q2. 월급을 입력하면 연봉을 계산해주는 계산기를 만들어 봅시다.\n",
        "           아래의 세율 표를 토대로 만들어 주세요. [난이도 : ⭐️⭐️/5]\n",
        "\n"
      ],
      "metadata": {
        "id": "a4tbv-acFyar"
      }
    },
    {
      "cell_type": "code",
      "source": [
        "def yearly_payment(monthly_payment):\n",
        "    pretax = 12 * monthly_payment\n",
        "\n",
        "    #세전 연봉을 구간에 따라 나눈 뒤 소득세를 제하여 세후 연봉을 계산\n",
        "\n",
        "    if pretax <= 1200:\n",
        "        aftertax = pretax - (pretax*0.06)\n",
        "    elif pretax <= 4600:\n",
        "        aftertax = pretax - (pretax*0.15)\n",
        "    elif pretax <= 8800:\n",
        "        aftertax = pretax - (pretax*0.24)\n",
        "    elif pretax <= 15000:\n",
        "        aftertax = pretax - (pretax*0.35)\n",
        "    elif pretax <= 30000:\n",
        "        aftertax = pretax - (pretax*0.38)\n",
        "    elif pretax <= 50000:\n",
        "        aftertax = pretax - (pretax*0.40)\n",
        "    else:\n",
        "        aftertax = pretax - (pretax*0.42)\n",
        "\n",
        "\n",
        "    print('세전 연봉: '+ str(pretax) + '만원')\n",
        "    print('세후 연봉: '+ str(aftertax) + '만원')\n",
        "\n",
        "monthly_payment = 300 #단위: 만원\n",
        "yearly_payment(monthly_payment)"
      ],
      "metadata": {
        "colab": {
          "base_uri": "https://localhost:8080/"
        },
        "id": "j55TapxHFxDy",
        "outputId": "2d79e0aa-f192-4cdf-efc3-2b5942a89e98"
      },
      "execution_count": null,
      "outputs": [
        {
          "output_type": "stream",
          "name": "stdout",
          "text": [
            "세전 연봉: 3600만원\n",
            "세후 연봉: 3060.0만원\n"
          ]
        }
      ]
    },
    {
      "cell_type": "markdown",
      "source": [
        "Q3. 나이와 지불 방법을 입력하면, 버스 요금이 출력되는 버스 요금 계산기를 만들어봅시다.\n",
        "           아래의 요금표를 토대로 만들어주세요! [난이도 : ⭐️⭐️/5]"
      ],
      "metadata": {
        "id": "IRaNpavJMSOd"
      }
    },
    {
      "cell_type": "markdown",
      "source": [],
      "metadata": {
        "id": "P2UIISOaMNJv"
      }
    },
    {
      "cell_type": "code",
      "source": [
        "def bus_fare(age, payment_method):\n",
        "    while not str(age).isdigit() or age < 1: #age가 자연수가 아닐 경우 다시 입력\n",
        "        age = int(input('나이를 입력해주세요(자연수):'))\n",
        "\n",
        "    while payment_method not in ['카드', '현금']:\n",
        "        payment_method = input(\"지불 방법을 현금 혹은 카드로 입력해주세요: \")\n",
        "\n",
        "    if age < 8 or age >= 75:        #요금이 무료인 경우\n",
        "        fare = 0\n",
        "    elif age < 14:\n",
        "        fare = 450\n",
        "    elif age < 20: #청소년, 성인의 경우 카드, 현금의 경우를 나누어 요금 계산\n",
        "        if payment_method == '카드':\n",
        "            fare = 720\n",
        "        else:                       #5번 줄에서 카드 혹은 현금으로만 처리\n",
        "            fare = 1000\n",
        "    else:\n",
        "        if payment_method == '카드':\n",
        "            fare = 1200\n",
        "        else:\n",
        "            fare = 1300\n",
        "\n",
        "    print('나이: '+ str(age) + '세')\n",
        "    print('지불유형: '+ payment_method)\n",
        "    print('버스요금: '+ str(fare)+ '원')\n",
        "\n",
        "bus_fare(30, \"현금\")"
      ],
      "metadata": {
        "colab": {
          "base_uri": "https://localhost:8080/"
        },
        "id": "03nHLyGRMMXz",
        "outputId": "cd98d057-ced3-4629-ac53-746c77557ccd"
      },
      "execution_count": null,
      "outputs": [
        {
          "output_type": "stream",
          "name": "stdout",
          "text": [
            "나이: 30세\n",
            "지불유형: 현금\n",
            "버스요금: 1300원\n"
          ]
        }
      ]
    },
    {
      "cell_type": "markdown",
      "source": [
        "Q4. 컴퓨터와 함께하는 가위바위보 게임을 만들어봅시다!\n",
        "            조건부 실행을 중심으로 만들어 보아요. [난이도 : ⭐️⭐️⭐️/5]"
      ],
      "metadata": {
        "id": "_bkq38yXXNGf"
      }
    },
    {
      "cell_type": "code",
      "source": [
        "import random\n",
        "\n",
        "def rcp(my):\n",
        "    computer = random.randint(0, 2)\n",
        "\n",
        "    if my == \"0\" or my == \"가위\":\n",
        "        if computer == 0:\n",
        "            print(\"나: 가위\\n컴퓨터: 가위\\n비겼습니다.\")\n",
        "        elif computer == 1:\n",
        "            print(\"나: 가위\\n컴퓨터: 바위\\n컴퓨터 승리!\")\n",
        "        else:\n",
        "            print(\"나: 가위\\n컴퓨터: 보\\n당신의 승리!\")\n",
        "    elif my == \"1\" or my == \"바위\":\n",
        "        if computer == 0:\n",
        "            print(\"나: 바위\\n컴퓨터: 가위\\n당신의 승리!\")\n",
        "        elif computer == 1:\n",
        "            print(\"나: 바위\\n컴퓨터: 바위\\n비겼습니다.\")\n",
        "        else:\n",
        "            print(\"나: 바위\\n컴퓨터: 보\\n컴퓨터 승리!\")\n",
        "    elif my == \"2\" or my == \"보\":\n",
        "        if computer == 0:\n",
        "            print(\"나: 보\\n컴퓨터: 가위\\n컴퓨터 승리!\")\n",
        "        elif computer == 1:\n",
        "            print(\"나: 보\\n컴퓨터: 바위\\n당신의 승리!\")\n",
        "        else:\n",
        "            print(\"나: 보\\n컴퓨터: 보\\n비겼습니다.\")\n",
        "    else:\n",
        "        print(\"잘못된 입력입니다.\")\n",
        "\n",
        "# 사용자 입력 받기\n",
        "my = input(\"가위, 바위, 보: \")\n",
        "\n",
        "\n",
        "# 게임 실행\n",
        "rcp(my)"
      ],
      "metadata": {
        "colab": {
          "base_uri": "https://localhost:8080/"
        },
        "id": "caX_o8elXL6D",
        "outputId": "e8188d6f-3790-480a-c584-4fb65bdd4f27"
      },
      "execution_count": null,
      "outputs": [
        {
          "output_type": "stream",
          "name": "stdout",
          "text": [
            "가위, 바위, 보: 2\n",
            "나: 보\n",
            "컴퓨터: 바위\n",
            "당신의 승리!\n"
          ]
        }
      ]
    }
  ]
}